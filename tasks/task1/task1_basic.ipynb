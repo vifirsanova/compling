{
  "nbformat": 4,
  "nbformat_minor": 0,
  "metadata": {
    "colab": {
      "provenance": [],
      "authorship_tag": "ABX9TyOyHL8yKhkqMNvKIcrrHp6a",
      "include_colab_link": true
    },
    "kernelspec": {
      "name": "python3",
      "display_name": "Python 3"
    },
    "language_info": {
      "name": "python"
    }
  },
  "cells": [
    {
      "cell_type": "markdown",
      "metadata": {
        "id": "view-in-github",
        "colab_type": "text"
      },
      "source": [
        "<a href=\"https://colab.research.google.com/github/vifirsanova/compling/blob/main/tasks/task1/task1_basic.ipynb\" target=\"_parent\"><img src=\"https://colab.research.google.com/assets/colab-badge.svg\" alt=\"Open In Colab\"/></a>"
      ]
    },
    {
      "cell_type": "markdown",
      "source": [
        "### Задача 1: предобработка текста\n",
        "\n",
        "#### Цель:\n",
        "Научиться применять базовые методы предобработки текста с использованием библиотек NLTK и SpaCy\n",
        "\n",
        "#### Требования:\n",
        "1. Выполнить чистку данных\n",
        "2. Выполнить удаление стоп-слов\n",
        "3. Привести текст к нижнему регистру\n",
        "4. Произвести лемматизацию\n",
        "\n",
        "Инструкция содержит плейсходеры в скобках `< >`, которые вы должны заменить на код"
      ],
      "metadata": {
        "id": "LHe6Z-d9h1Ay"
      }
    },
    {
      "cell_type": "markdown",
      "source": [
        "**Шаг 1:** установите необходимые библиотеки"
      ],
      "metadata": {
        "id": "Z4PuMmgPimOc"
      }
    },
    {
      "cell_type": "code",
      "source": [
        "# Установите необходимые библиотеки (замените плейсхолдеры на ваш код)\n",
        "# Для NLTK:\n",
        "<Импортировать NLTK>\n",
        "\n",
        "# Для SpaCy:\n",
        "<Импортировать SpaCy>"
      ],
      "metadata": {
        "id": "WL_siqOYizvz"
      },
      "execution_count": null,
      "outputs": []
    },
    {
      "cell_type": "markdown",
      "source": [
        "**Шаг 2:** загрузите текст, откройте его и сохраните в переменную\n",
        "\n",
        "Ваш текст хранится по ссылке `https://github.com/vifirsanova/compling/blob/main/tasks/task1/data.txt`\n",
        "\n",
        "Это текст из блога про программирование"
      ],
      "metadata": {
        "id": "4Lz2NPkDjrLy"
      }
    },
    {
      "cell_type": "code",
      "source": [
        "# Загрузка текста с помощью командной строки\n",
        "<Команда для загрузки файла с текстом>"
      ],
      "metadata": {
        "id": "Ue9FLkiTjGEy"
      },
      "execution_count": 1,
      "outputs": []
    },
    {
      "cell_type": "code",
      "source": [
        "# Код для открытия файла\n",
        "<Код: открыть файл и сохранить текст в переменную>"
      ],
      "metadata": {
        "id": "M2nT0Zzjlw1F"
      },
      "execution_count": null,
      "outputs": []
    },
    {
      "cell_type": "markdown",
      "source": [
        "**Шаг 3:** Чистка текста  \n",
        "\n",
        "Удалите знаки препинания с помощью регулярных выражений. Закомментируйте код: объясните, какие регулярки вы применили, что они делают"
      ],
      "metadata": {
        "id": "2M7U4ZuVjDxB"
      }
    },
    {
      "cell_type": "code",
      "source": [
        "# Код для удаления пунктуации\n",
        "cleaned_text = <Ваш код для удаления пунктуации>\n",
        "print(\"Текст без пунктуации:\", cleaned_text)"
      ],
      "metadata": {
        "id": "Iq5jWlo4mKxI"
      },
      "execution_count": null,
      "outputs": []
    },
    {
      "cell_type": "markdown",
      "source": [
        "**Шаг 4:** Приведение текста к нижнему регистру"
      ],
      "metadata": {
        "id": "h3gq8ke1mSve"
      }
    },
    {
      "cell_type": "code",
      "source": [
        "# Код для приведения к нижнему регистру\n",
        "cleaned_text = <Ваш код для преобразования регистра>\n",
        "print(\"Текст в нижнем регистре:\", cleaned_text)"
      ],
      "metadata": {
        "id": "SkmK4-MDmcyZ"
      },
      "execution_count": null,
      "outputs": []
    },
    {
      "cell_type": "markdown",
      "source": [
        "**Шаг 5:** Удаление стоп-слов\n",
        "\n",
        "Удалите стоп-слова с помощью `NLTK`. Не забудьте загрузить дополнительные модули"
      ],
      "metadata": {
        "id": "bahI1VLpmq8u"
      }
    },
    {
      "cell_type": "code",
      "execution_count": null,
      "metadata": {
        "id": "8O4y6c4Fhzxc"
      },
      "outputs": [],
      "source": [
        "# Код для удаления стоп-слов с помощью NLTK\n",
        "stop_words = <Ваш код для получения списка стоп-слов>\n",
        "filtered_words = <Ваш код для фильтрации слов>\n",
        "print(\"Текст без стоп-слов:\", filtered_words)"
      ]
    },
    {
      "cell_type": "markdown",
      "source": [
        "**Шаг 6:** Лемматизация  \n",
        "\n",
        "Выполните лемматизацию текста с помощью SpaCy"
      ],
      "metadata": {
        "id": "igP_3l8Bm-fk"
      }
    },
    {
      "cell_type": "code",
      "source": [
        "# Код для лемматизации с помощью SpaCy\n",
        "lemmatized_words = <Ваш код для лемматизации>\n",
        "print(\"Лемматизированный текст:\", lemmatized_words)"
      ],
      "metadata": {
        "id": "YkQ6RbQ4nA8J"
      },
      "execution_count": null,
      "outputs": []
    },
    {
      "cell_type": "markdown",
      "source": [
        "**Шаг 7:** Вывод результатов\n",
        "\n",
        "Представьте итоговый текст после всех этапов обработки."
      ],
      "metadata": {
        "id": "VXAwtTdlnDlX"
      }
    },
    {
      "cell_type": "code",
      "source": [
        "print(\"Итоговый текст:\", <Ваш итоговый текст>)"
      ],
      "metadata": {
        "id": "jaZ3BecgnJWk"
      },
      "execution_count": null,
      "outputs": []
    },
    {
      "cell_type": "markdown",
      "source": [
        "**Шаг 8:** добавление описаний\n",
        "\n",
        "В каждой ячейке добавьте текстовые пояснения с помощью Markdown для описания шагов.\n",
        "\n",
        "Пример:\n",
        "\n",
        "```\n",
        "### Этап 1: Чистка текста\n",
        "Здесь мы удаляем пунктуацию, чтобы избавиться от ненужных символов.\n",
        "```"
      ],
      "metadata": {
        "id": "Dd6i2ij3nO8N"
      }
    },
    {
      "cell_type": "markdown",
      "source": [
        "### Критерии оценивания:\n",
        "- **Чистка текста от артефактов:** текст очищен от пунктуации, символов (2 балла).\n",
        "- **Удаление стоп-слов:** все стоп-слова удалены (2 балла).\n",
        "- **Приведение текста к нижнему регистру:** весь текст преобразован в нижний регистр (2 балла).\n",
        "- **Лемматизация:** слова приведены к леммам (2 балла).\n",
        "- **Комментарии и описания:** каждый шаг кода содержит комментарии или текстовые описания (2 балла).\n",
        "\n",
        "Общий балл: **10 баллов**."
      ],
      "metadata": {
        "id": "1d4qT98jnbmv"
      }
    }
  ]
}