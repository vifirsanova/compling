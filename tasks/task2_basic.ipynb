{
  "nbformat": 4,
  "nbformat_minor": 0,
  "metadata": {
    "colab": {
      "provenance": [],
      "authorship_tag": "ABX9TyPPJCOUY6clyjcp5ggXLx6d",
      "include_colab_link": true
    },
    "kernelspec": {
      "name": "python3",
      "display_name": "Python 3"
    },
    "language_info": {
      "name": "python"
    }
  },
  "cells": [
    {
      "cell_type": "markdown",
      "metadata": {
        "id": "view-in-github",
        "colab_type": "text"
      },
      "source": [
        "<a href=\"https://colab.research.google.com/github/vifirsanova/compling/blob/main/tasks/task2_basic.ipynb\" target=\"_parent\"><img src=\"https://colab.research.google.com/assets/colab-badge.svg\" alt=\"Open In Colab\"/></a>"
      ]
    },
    {
      "cell_type": "markdown",
      "source": [
        "# Задача 2: Разметка датасета с HF Datasets"
      ],
      "metadata": {
        "id": "qSxo269_JcYa"
      }
    },
    {
      "cell_type": "markdown",
      "source": [
        "# Критерии оценивания:\n",
        "\n",
        "1. Выделены все части речи (2 балла)\n",
        "2. Выделены все именованные сущности (2 балла)\n",
        "3. Выделены все синтаксические зависимости (2 балла)\n",
        "4. Результат оформлен в виде датафрейма (2 балла)\n",
        "5. Датасет опубликован на HF Datasets (2 балла)\n",
        "\n",
        "**В комментариях к блокноту нужно обязательно добавить ссылку на ваш датасет**"
      ],
      "metadata": {
        "id": "6BfU7GQJJBZM"
      }
    },
    {
      "cell_type": "markdown",
      "source": [
        "**Шаг 1**: Установка необходимых библиотек и загрузка текста"
      ],
      "metadata": {
        "id": "SCU1CZlYJrCJ"
      }
    },
    {
      "cell_type": "code",
      "source": [
        "# Устанавливаем необходимые библиотеки\n",
        "!pip install datasets nltk spacy -q"
      ],
      "metadata": {
        "id": "z6HJTaEDKWNV"
      },
      "execution_count": null,
      "outputs": []
    },
    {
      "cell_type": "code",
      "source": [
        "# Импорт наших инструментов\n",
        "from datasets import Dataset\n",
        "import pandas as pd\n",
        "import spacy\n",
        "import nltk\n",
        "from nltk import pos_tag, word_tokenize, download\n",
        "from spacy import displacy"
      ],
      "metadata": {
        "id": "LeDptHCyLpzY"
      },
      "execution_count": null,
      "outputs": []
    },
    {
      "cell_type": "code",
      "source": [
        "# Загружаем Spacy\n",
        "!python -m spacy download en_core_web_sm\n",
        "nlp = spacy.load(\"en_core_web_sm\")"
      ],
      "metadata": {
        "id": "MwlP7H5eLi1S"
      },
      "execution_count": null,
      "outputs": []
    },
    {
      "cell_type": "code",
      "source": [
        "# Подключаем ресурсы NLTK\n",
        "nltk.download('punkt')\n",
        "nltk.download('averaged_perceptron_tagger')\n",
        "nltk.download('punkt_tab')\n",
        "nltk.download('averaged_perceptron_tagger_eng')"
      ],
      "metadata": {
        "id": "ZqIgA5oiLead"
      },
      "execution_count": null,
      "outputs": []
    },
    {
      "cell_type": "markdown",
      "source": [
        "**Задание**: загрузите текст для разметки\n",
        "\n",
        "**Опции**:\n",
        "1. использовать свой текст\n",
        "2. использовать текст из задания 1: `https://github.com/vifirsanova/compling/blob/main/tasks/task1/data.txt`"
      ],
      "metadata": {
        "id": "FmiXzHhxK3M5"
      }
    },
    {
      "cell_type": "code",
      "source": [
        "### ваш код здесь ###"
      ],
      "metadata": {
        "id": "XtHdKkpWMDJM"
      },
      "execution_count": null,
      "outputs": []
    },
    {
      "cell_type": "markdown",
      "source": [
        "**Шаг 2**: Выделение частей речи с использованием NLTK"
      ],
      "metadata": {
        "id": "Xu8OPlhdMGmu"
      }
    },
    {
      "cell_type": "code",
      "source": [
        "# Дана функция для выделения частей речи с помощью NLTK\n",
        "def nltk_pos_tagging(text):\n",
        "    tokens = word_tokenize(text)\n",
        "    return pos_tag(tokens)"
      ],
      "metadata": {
        "id": "WVyf6LKLMTTG"
      },
      "execution_count": null,
      "outputs": []
    },
    {
      "cell_type": "markdown",
      "source": [
        "**Задание**: самостоятельно найдите документацию NLTK и вставьте в свое решение ссылки на описание работы с инструментами `word_tokenize` и `pos_tag` из официальной документации NLTK\n",
        "\n",
        "Ссылки:\n",
        "\n",
        "1.\n",
        "2."
      ],
      "metadata": {
        "id": "4znJ_8wdMfAM"
      }
    },
    {
      "cell_type": "markdown",
      "source": [
        "**Задание**: произведите частеречную разметку ваших данных с помощью функции `nltk_pos_tagging`"
      ],
      "metadata": {
        "id": "akTITkmJM-V8"
      }
    },
    {
      "cell_type": "code",
      "source": [
        "### ваш код здесь ###"
      ],
      "metadata": {
        "id": "TYZA33p8Msgw"
      },
      "execution_count": null,
      "outputs": []
    },
    {
      "cell_type": "code",
      "source": [
        "\"\"\"\n",
        "\n",
        "ОБРАЗЕЦ ОЖИДАЕМОГО РЕЗУЛЬТАТА ВЫДАЧИ:\n",
        "\n",
        "- ПРОВЕРЬТЕ ВАШ РЕЗУЛЬТАТ,\n",
        "- СРАВНИТЕ ЕГО С ОБРАЗЦОМ ПЕРЕД СДАЧЕЙ РАБОТЫ\n",
        "\n",
        "\"\"\""
      ],
      "metadata": {
        "colab": {
          "base_uri": "https://localhost:8080/"
        },
        "id": "ybE1C7E5NKxo",
        "outputId": "e202ccda-8179-4180-e6e6-532ffc508add"
      },
      "execution_count": 10,
      "outputs": [
        {
          "output_type": "execute_result",
          "data": {
            "text/plain": [
              "[[('John', 'NNP'),\n",
              "  ('is', 'VBZ'),\n",
              "  ('studying', 'VBG'),\n",
              "  ('at', 'IN'),\n",
              "  ('the', 'DT'),\n",
              "  ('University', 'NNP'),\n",
              "  ('of', 'IN'),\n",
              "  ('California', 'NNP'),\n",
              "  ('.', '.')],\n",
              " [('Apple', 'NNP'),\n",
              "  ('Inc.', 'NNP'),\n",
              "  ('is', 'VBZ'),\n",
              "  ('a', 'DT'),\n",
              "  ('leading', 'VBG'),\n",
              "  ('technology', 'NN'),\n",
              "  ('company', 'NN'),\n",
              "  ('.', '.')],\n",
              " [('The', 'DT'),\n",
              "  ('Eiffel', 'NNP'),\n",
              "  ('Tower', 'NNP'),\n",
              "  ('is', 'VBZ'),\n",
              "  ('located', 'VBN'),\n",
              "  ('in', 'IN'),\n",
              "  ('Paris', 'NNP'),\n",
              "  (',', ','),\n",
              "  ('France', 'NNP'),\n",
              "  ('.', '.')]]"
            ]
          },
          "metadata": {},
          "execution_count": 10
        }
      ]
    },
    {
      "cell_type": "markdown",
      "source": [
        "**Шаг 3**: разметка с помощью spacy\n",
        "\n",
        "Переключимся на другую бибилиотеку!\n",
        "\n",
        "**Задание**: допишите функцию для разметки частей речи, именованных сущностей и синтаксическх зависимостей"
      ],
      "metadata": {
        "id": "37iv5y2bN16w"
      }
    },
    {
      "cell_type": "code",
      "source": [
        "def spacy_annotation(text):\n",
        "    doc = ## примените метод nlp, чтобы произвести разбор текста ##\n",
        "\n",
        "    ## напишите цикл для выделения частей речи с помощью spacy ##\n",
        "    ## в качестве подсказки используйте наши практические работы ##\n",
        "    ## вы должны создать список пар: (токен, частеречный тег) ##\n",
        "    pos_tags = ## создаем список пар: (токена token.text, частеречный тег token.pos_) ##\n",
        "\n",
        "    ## напишите цикл для выделения именованных сущностей с помощью spacy ##\n",
        "    ## в качестве подсказки используйте наши практические работы ##\n",
        "    ## вы должны создать список пар: (текст, тег именованной сущности) ##\n",
        "    named_entities = ## создаем список пар: (токена ent.text, частеречный тег ent.label_) для всех сущностей в списке doc.ents ##\n",
        "\n",
        "    # как происходит выделение синтаксических зависимостей в spacy?\n",
        "    # каждый токен связывается с его \"головой\" (head), что формирует синтаксическую структуру.\n",
        "    # например, \"studying\" (основной глагол) может быть связан с \"John\" как субъект (nsubj)\n",
        "\n",
        "    dependencies = [(token.text, token.dep_, token.head.text) for token in doc]\n",
        "\n",
        "    # сформируем словарь, где соберем все результаты нашей разметки\n",
        "    return {\n",
        "        ## создайте здесь словарь с тремя ключами \"pos_tags\", \"named_entities\" и \"dependencies\" ##\n",
        "        ## запишите в него результаты вашей разметки ##\n",
        "    }"
      ],
      "metadata": {
        "id": "E-dLCEj1OCj0"
      },
      "execution_count": null,
      "outputs": []
    },
    {
      "cell_type": "code",
      "source": [
        "# Выполнеяем разметку текста:\n",
        "# создайте цикл для разметки вашего текста с помощью функции spacy_annotation\n",
        "spacy_results = ## здесь будет результат вашей разметки ##"
      ],
      "metadata": {
        "id": "jzSkC6faQg9h"
      },
      "execution_count": null,
      "outputs": []
    },
    {
      "cell_type": "code",
      "source": [
        "\"\"\"\n",
        "\n",
        "ОБРАЗЕЦ ОЖИДАЕМОГО РЕЗУЛЬТАТА ВЫДАЧИ:\n",
        "\n",
        "- ПРОВЕРЬТЕ ВАШ РЕЗУЛЬТАТ,\n",
        "- СРАВНИТЕ ЕГО С ОБРАЗЦОМ ПЕРЕД СДАЧЕЙ РАБОТЫ\n",
        "\n",
        "\"\"\""
      ],
      "metadata": {
        "colab": {
          "base_uri": "https://localhost:8080/"
        },
        "id": "IMYu3tGLQtTg",
        "outputId": "01e5ded1-424b-4454-df2f-c93b5d534c2b"
      },
      "execution_count": 11,
      "outputs": [
        {
          "output_type": "execute_result",
          "data": {
            "text/plain": [
              "[{'pos_tags': [('John', 'PROPN'),\n",
              "   ('is', 'AUX'),\n",
              "   ('studying', 'VERB'),\n",
              "   ('at', 'ADP'),\n",
              "   ('the', 'DET'),\n",
              "   ('University', 'PROPN'),\n",
              "   ('of', 'ADP'),\n",
              "   ('California', 'PROPN'),\n",
              "   ('.', 'PUNCT')],\n",
              "  'named_entities': [('John', 'PERSON'),\n",
              "   ('the University of California', 'ORG')],\n",
              "  'dependencies': [('John', 'nsubj', 'studying'),\n",
              "   ('is', 'aux', 'studying'),\n",
              "   ('studying', 'ROOT', 'studying'),\n",
              "   ('at', 'prep', 'studying'),\n",
              "   ('the', 'det', 'University'),\n",
              "   ('University', 'pobj', 'at'),\n",
              "   ('of', 'prep', 'University'),\n",
              "   ('California', 'pobj', 'of'),\n",
              "   ('.', 'punct', 'studying')]},\n",
              " {'pos_tags': [('Apple', 'PROPN'),\n",
              "   ('Inc.', 'PROPN'),\n",
              "   ('is', 'AUX'),\n",
              "   ('a', 'DET'),\n",
              "   ('leading', 'VERB'),\n",
              "   ('technology', 'NOUN'),\n",
              "   ('company', 'NOUN'),\n",
              "   ('.', 'PUNCT')],\n",
              "  'named_entities': [('Apple Inc.', 'ORG')],\n",
              "  'dependencies': [('Apple', 'compound', 'Inc.'),\n",
              "   ('Inc.', 'nsubj', 'is'),\n",
              "   ('is', 'ROOT', 'is'),\n",
              "   ('a', 'det', 'company'),\n",
              "   ('leading', 'amod', 'company'),\n",
              "   ('technology', 'compound', 'company'),\n",
              "   ('company', 'attr', 'is'),\n",
              "   ('.', 'punct', 'is')]},\n",
              " {'pos_tags': [('The', 'DET'),\n",
              "   ('Eiffel', 'PROPN'),\n",
              "   ('Tower', 'PROPN'),\n",
              "   ('is', 'AUX'),\n",
              "   ('located', 'VERB'),\n",
              "   ('in', 'ADP'),\n",
              "   ('Paris', 'PROPN'),\n",
              "   (',', 'PUNCT'),\n",
              "   ('France', 'PROPN'),\n",
              "   ('.', 'PUNCT')],\n",
              "  'named_entities': [('The Eiffel Tower', 'FAC'),\n",
              "   ('Paris', 'GPE'),\n",
              "   ('France', 'GPE')],\n",
              "  'dependencies': [('The', 'det', 'Tower'),\n",
              "   ('Eiffel', 'compound', 'Tower'),\n",
              "   ('Tower', 'nsubjpass', 'located'),\n",
              "   ('is', 'auxpass', 'located'),\n",
              "   ('located', 'ROOT', 'located'),\n",
              "   ('in', 'prep', 'located'),\n",
              "   ('Paris', 'pobj', 'in'),\n",
              "   (',', 'punct', 'Paris'),\n",
              "   ('France', 'appos', 'Paris'),\n",
              "   ('.', 'punct', 'located')]}]"
            ]
          },
          "metadata": {},
          "execution_count": 11
        }
      ]
    },
    {
      "cell_type": "markdown",
      "source": [
        "**Задание**: найдите документацию spacy, добавьте сюда ссылку на объяснение работы token.text, token.dep_.\n",
        "\n",
        "Ссылка:\n",
        "\n",
        "1."
      ],
      "metadata": {
        "id": "P1be14LAPp_p"
      }
    },
    {
      "cell_type": "markdown",
      "source": [
        "**Шаг 4**: Преобразование результатов в датафрейм"
      ],
      "metadata": {
        "id": "S6cMiTfIOBuV"
      }
    },
    {
      "cell_type": "code",
      "source": [
        "data = ## создайте пустой список ##\n",
        "\n",
        "# начинаем итерацию по данным\n",
        "# используем enumerate для итерирования по индексам\n",
        "for i, text in enumerate(texts):\n",
        "    # добавляем в data все, что мы разметили ранее\n",
        "    data.append({\n",
        "        \"text\": ## переменная, в которой хранится ваш текст ##\n",
        "        \"nltk_pos\": nltk_pos_results[i],               # Части речи с NLTK\n",
        "        \"spacy_pos\": spacy_results[i][\"pos_tags\"],     # Части речи с SpaCy\n",
        "        \"named_entities\": spacy_results[i][\"named_entities\"],  # Именованные сущности\n",
        "        \"dependencies\": spacy_results[i][\"dependencies\"]  # Синтаксические зависимости\n",
        "    })\n",
        "\n",
        "df = ## создайте датафрейм с data ##"
      ],
      "metadata": {
        "id": "hFXV7v6ZQ33U"
      },
      "execution_count": null,
      "outputs": []
    },
    {
      "cell_type": "code",
      "source": [
        "\"\"\"\n",
        "\n",
        "ОБРАЗЕЦ ОЖИДАЕМОГО РЕЗУЛЬТАТА ВЫДАЧИ:\n",
        "\n",
        "- ПРОВЕРЬТЕ ВАШ РЕЗУЛЬТАТ,\n",
        "- СРАВНИТЕ ЕГО С ОБРАЗЦОМ ПЕРЕД СДАЧЕЙ РАБОТЫ\n",
        "\n",
        "\"\"\""
      ],
      "metadata": {
        "colab": {
          "base_uri": "https://localhost:8080/",
          "height": 163
        },
        "id": "VoRLkI7DRAoC",
        "outputId": "dc7c6a3f-c2e9-4c0e-a754-4572e948e286"
      },
      "execution_count": 13,
      "outputs": [
        {
          "output_type": "execute_result",
          "data": {
            "text/plain": [
              "                                                text  \\\n",
              "0  John is studying at the University of California.   \n",
              "1        Apple Inc. is a leading technology company.   \n",
              "2      The Eiffel Tower is located in Paris, France.   \n",
              "\n",
              "                                            nltk_pos  \\\n",
              "0  [(John, NNP), (is, VBZ), (studying, VBG), (at,...   \n",
              "1  [(Apple, NNP), (Inc., NNP), (is, VBZ), (a, DT)...   \n",
              "2  [(The, DT), (Eiffel, NNP), (Tower, NNP), (is, ...   \n",
              "\n",
              "                                           spacy_pos  \\\n",
              "0  [(John, PROPN), (is, AUX), (studying, VERB), (...   \n",
              "1  [(Apple, PROPN), (Inc., PROPN), (is, AUX), (a,...   \n",
              "2  [(The, DET), (Eiffel, PROPN), (Tower, PROPN), ...   \n",
              "\n",
              "                                      named_entities  \\\n",
              "0  [(John, PERSON), (the University of California...   \n",
              "1                                [(Apple Inc., ORG)]   \n",
              "2  [(The Eiffel Tower, FAC), (Paris, GPE), (Franc...   \n",
              "\n",
              "                                        dependencies  \n",
              "0  [(John, nsubj, studying), (is, aux, studying),...  \n",
              "1  [(Apple, compound, Inc.), (Inc., nsubj, is), (...  \n",
              "2  [(The, det, Tower), (Eiffel, compound, Tower),...  "
            ],
            "text/html": [
              "\n",
              "  <div id=\"df-96f1954f-d92b-4007-a098-281c4d164d68\" class=\"colab-df-container\">\n",
              "    <div>\n",
              "<style scoped>\n",
              "    .dataframe tbody tr th:only-of-type {\n",
              "        vertical-align: middle;\n",
              "    }\n",
              "\n",
              "    .dataframe tbody tr th {\n",
              "        vertical-align: top;\n",
              "    }\n",
              "\n",
              "    .dataframe thead th {\n",
              "        text-align: right;\n",
              "    }\n",
              "</style>\n",
              "<table border=\"1\" class=\"dataframe\">\n",
              "  <thead>\n",
              "    <tr style=\"text-align: right;\">\n",
              "      <th></th>\n",
              "      <th>text</th>\n",
              "      <th>nltk_pos</th>\n",
              "      <th>spacy_pos</th>\n",
              "      <th>named_entities</th>\n",
              "      <th>dependencies</th>\n",
              "    </tr>\n",
              "  </thead>\n",
              "  <tbody>\n",
              "    <tr>\n",
              "      <th>0</th>\n",
              "      <td>John is studying at the University of California.</td>\n",
              "      <td>[(John, NNP), (is, VBZ), (studying, VBG), (at,...</td>\n",
              "      <td>[(John, PROPN), (is, AUX), (studying, VERB), (...</td>\n",
              "      <td>[(John, PERSON), (the University of California...</td>\n",
              "      <td>[(John, nsubj, studying), (is, aux, studying),...</td>\n",
              "    </tr>\n",
              "    <tr>\n",
              "      <th>1</th>\n",
              "      <td>Apple Inc. is a leading technology company.</td>\n",
              "      <td>[(Apple, NNP), (Inc., NNP), (is, VBZ), (a, DT)...</td>\n",
              "      <td>[(Apple, PROPN), (Inc., PROPN), (is, AUX), (a,...</td>\n",
              "      <td>[(Apple Inc., ORG)]</td>\n",
              "      <td>[(Apple, compound, Inc.), (Inc., nsubj, is), (...</td>\n",
              "    </tr>\n",
              "    <tr>\n",
              "      <th>2</th>\n",
              "      <td>The Eiffel Tower is located in Paris, France.</td>\n",
              "      <td>[(The, DT), (Eiffel, NNP), (Tower, NNP), (is, ...</td>\n",
              "      <td>[(The, DET), (Eiffel, PROPN), (Tower, PROPN), ...</td>\n",
              "      <td>[(The Eiffel Tower, FAC), (Paris, GPE), (Franc...</td>\n",
              "      <td>[(The, det, Tower), (Eiffel, compound, Tower),...</td>\n",
              "    </tr>\n",
              "  </tbody>\n",
              "</table>\n",
              "</div>\n",
              "    <div class=\"colab-df-buttons\">\n",
              "\n",
              "  <div class=\"colab-df-container\">\n",
              "    <button class=\"colab-df-convert\" onclick=\"convertToInteractive('df-96f1954f-d92b-4007-a098-281c4d164d68')\"\n",
              "            title=\"Convert this dataframe to an interactive table.\"\n",
              "            style=\"display:none;\">\n",
              "\n",
              "  <svg xmlns=\"http://www.w3.org/2000/svg\" height=\"24px\" viewBox=\"0 -960 960 960\">\n",
              "    <path d=\"M120-120v-720h720v720H120Zm60-500h600v-160H180v160Zm220 220h160v-160H400v160Zm0 220h160v-160H400v160ZM180-400h160v-160H180v160Zm440 0h160v-160H620v160ZM180-180h160v-160H180v160Zm440 0h160v-160H620v160Z\"/>\n",
              "  </svg>\n",
              "    </button>\n",
              "\n",
              "  <style>\n",
              "    .colab-df-container {\n",
              "      display:flex;\n",
              "      gap: 12px;\n",
              "    }\n",
              "\n",
              "    .colab-df-convert {\n",
              "      background-color: #E8F0FE;\n",
              "      border: none;\n",
              "      border-radius: 50%;\n",
              "      cursor: pointer;\n",
              "      display: none;\n",
              "      fill: #1967D2;\n",
              "      height: 32px;\n",
              "      padding: 0 0 0 0;\n",
              "      width: 32px;\n",
              "    }\n",
              "\n",
              "    .colab-df-convert:hover {\n",
              "      background-color: #E2EBFA;\n",
              "      box-shadow: 0px 1px 2px rgba(60, 64, 67, 0.3), 0px 1px 3px 1px rgba(60, 64, 67, 0.15);\n",
              "      fill: #174EA6;\n",
              "    }\n",
              "\n",
              "    .colab-df-buttons div {\n",
              "      margin-bottom: 4px;\n",
              "    }\n",
              "\n",
              "    [theme=dark] .colab-df-convert {\n",
              "      background-color: #3B4455;\n",
              "      fill: #D2E3FC;\n",
              "    }\n",
              "\n",
              "    [theme=dark] .colab-df-convert:hover {\n",
              "      background-color: #434B5C;\n",
              "      box-shadow: 0px 1px 3px 1px rgba(0, 0, 0, 0.15);\n",
              "      filter: drop-shadow(0px 1px 2px rgba(0, 0, 0, 0.3));\n",
              "      fill: #FFFFFF;\n",
              "    }\n",
              "  </style>\n",
              "\n",
              "    <script>\n",
              "      const buttonEl =\n",
              "        document.querySelector('#df-96f1954f-d92b-4007-a098-281c4d164d68 button.colab-df-convert');\n",
              "      buttonEl.style.display =\n",
              "        google.colab.kernel.accessAllowed ? 'block' : 'none';\n",
              "\n",
              "      async function convertToInteractive(key) {\n",
              "        const element = document.querySelector('#df-96f1954f-d92b-4007-a098-281c4d164d68');\n",
              "        const dataTable =\n",
              "          await google.colab.kernel.invokeFunction('convertToInteractive',\n",
              "                                                    [key], {});\n",
              "        if (!dataTable) return;\n",
              "\n",
              "        const docLinkHtml = 'Like what you see? Visit the ' +\n",
              "          '<a target=\"_blank\" href=https://colab.research.google.com/notebooks/data_table.ipynb>data table notebook</a>'\n",
              "          + ' to learn more about interactive tables.';\n",
              "        element.innerHTML = '';\n",
              "        dataTable['output_type'] = 'display_data';\n",
              "        await google.colab.output.renderOutput(dataTable, element);\n",
              "        const docLink = document.createElement('div');\n",
              "        docLink.innerHTML = docLinkHtml;\n",
              "        element.appendChild(docLink);\n",
              "      }\n",
              "    </script>\n",
              "  </div>\n",
              "\n",
              "\n",
              "<div id=\"df-21bd3a2d-6822-4bd6-accb-731c48b3aa1f\">\n",
              "  <button class=\"colab-df-quickchart\" onclick=\"quickchart('df-21bd3a2d-6822-4bd6-accb-731c48b3aa1f')\"\n",
              "            title=\"Suggest charts\"\n",
              "            style=\"display:none;\">\n",
              "\n",
              "<svg xmlns=\"http://www.w3.org/2000/svg\" height=\"24px\"viewBox=\"0 0 24 24\"\n",
              "     width=\"24px\">\n",
              "    <g>\n",
              "        <path d=\"M19 3H5c-1.1 0-2 .9-2 2v14c0 1.1.9 2 2 2h14c1.1 0 2-.9 2-2V5c0-1.1-.9-2-2-2zM9 17H7v-7h2v7zm4 0h-2V7h2v10zm4 0h-2v-4h2v4z\"/>\n",
              "    </g>\n",
              "</svg>\n",
              "  </button>\n",
              "\n",
              "<style>\n",
              "  .colab-df-quickchart {\n",
              "      --bg-color: #E8F0FE;\n",
              "      --fill-color: #1967D2;\n",
              "      --hover-bg-color: #E2EBFA;\n",
              "      --hover-fill-color: #174EA6;\n",
              "      --disabled-fill-color: #AAA;\n",
              "      --disabled-bg-color: #DDD;\n",
              "  }\n",
              "\n",
              "  [theme=dark] .colab-df-quickchart {\n",
              "      --bg-color: #3B4455;\n",
              "      --fill-color: #D2E3FC;\n",
              "      --hover-bg-color: #434B5C;\n",
              "      --hover-fill-color: #FFFFFF;\n",
              "      --disabled-bg-color: #3B4455;\n",
              "      --disabled-fill-color: #666;\n",
              "  }\n",
              "\n",
              "  .colab-df-quickchart {\n",
              "    background-color: var(--bg-color);\n",
              "    border: none;\n",
              "    border-radius: 50%;\n",
              "    cursor: pointer;\n",
              "    display: none;\n",
              "    fill: var(--fill-color);\n",
              "    height: 32px;\n",
              "    padding: 0;\n",
              "    width: 32px;\n",
              "  }\n",
              "\n",
              "  .colab-df-quickchart:hover {\n",
              "    background-color: var(--hover-bg-color);\n",
              "    box-shadow: 0 1px 2px rgba(60, 64, 67, 0.3), 0 1px 3px 1px rgba(60, 64, 67, 0.15);\n",
              "    fill: var(--button-hover-fill-color);\n",
              "  }\n",
              "\n",
              "  .colab-df-quickchart-complete:disabled,\n",
              "  .colab-df-quickchart-complete:disabled:hover {\n",
              "    background-color: var(--disabled-bg-color);\n",
              "    fill: var(--disabled-fill-color);\n",
              "    box-shadow: none;\n",
              "  }\n",
              "\n",
              "  .colab-df-spinner {\n",
              "    border: 2px solid var(--fill-color);\n",
              "    border-color: transparent;\n",
              "    border-bottom-color: var(--fill-color);\n",
              "    animation:\n",
              "      spin 1s steps(1) infinite;\n",
              "  }\n",
              "\n",
              "  @keyframes spin {\n",
              "    0% {\n",
              "      border-color: transparent;\n",
              "      border-bottom-color: var(--fill-color);\n",
              "      border-left-color: var(--fill-color);\n",
              "    }\n",
              "    20% {\n",
              "      border-color: transparent;\n",
              "      border-left-color: var(--fill-color);\n",
              "      border-top-color: var(--fill-color);\n",
              "    }\n",
              "    30% {\n",
              "      border-color: transparent;\n",
              "      border-left-color: var(--fill-color);\n",
              "      border-top-color: var(--fill-color);\n",
              "      border-right-color: var(--fill-color);\n",
              "    }\n",
              "    40% {\n",
              "      border-color: transparent;\n",
              "      border-right-color: var(--fill-color);\n",
              "      border-top-color: var(--fill-color);\n",
              "    }\n",
              "    60% {\n",
              "      border-color: transparent;\n",
              "      border-right-color: var(--fill-color);\n",
              "    }\n",
              "    80% {\n",
              "      border-color: transparent;\n",
              "      border-right-color: var(--fill-color);\n",
              "      border-bottom-color: var(--fill-color);\n",
              "    }\n",
              "    90% {\n",
              "      border-color: transparent;\n",
              "      border-bottom-color: var(--fill-color);\n",
              "    }\n",
              "  }\n",
              "</style>\n",
              "\n",
              "  <script>\n",
              "    async function quickchart(key) {\n",
              "      const quickchartButtonEl =\n",
              "        document.querySelector('#' + key + ' button');\n",
              "      quickchartButtonEl.disabled = true;  // To prevent multiple clicks.\n",
              "      quickchartButtonEl.classList.add('colab-df-spinner');\n",
              "      try {\n",
              "        const charts = await google.colab.kernel.invokeFunction(\n",
              "            'suggestCharts', [key], {});\n",
              "      } catch (error) {\n",
              "        console.error('Error during call to suggestCharts:', error);\n",
              "      }\n",
              "      quickchartButtonEl.classList.remove('colab-df-spinner');\n",
              "      quickchartButtonEl.classList.add('colab-df-quickchart-complete');\n",
              "    }\n",
              "    (() => {\n",
              "      let quickchartButtonEl =\n",
              "        document.querySelector('#df-21bd3a2d-6822-4bd6-accb-731c48b3aa1f button');\n",
              "      quickchartButtonEl.style.display =\n",
              "        google.colab.kernel.accessAllowed ? 'block' : 'none';\n",
              "    })();\n",
              "  </script>\n",
              "</div>\n",
              "    </div>\n",
              "  </div>\n"
            ],
            "application/vnd.google.colaboratory.intrinsic+json": {
              "type": "dataframe",
              "variable_name": "df",
              "summary": "{\n  \"name\": \"df\",\n  \"rows\": 3,\n  \"fields\": [\n    {\n      \"column\": \"text\",\n      \"properties\": {\n        \"dtype\": \"string\",\n        \"num_unique_values\": 3,\n        \"samples\": [\n          \"John is studying at the University of California.\",\n          \"Apple Inc. is a leading technology company.\",\n          \"The Eiffel Tower is located in Paris, France.\"\n        ],\n        \"semantic_type\": \"\",\n        \"description\": \"\"\n      }\n    },\n    {\n      \"column\": \"nltk_pos\",\n      \"properties\": {\n        \"dtype\": \"object\",\n        \"semantic_type\": \"\",\n        \"description\": \"\"\n      }\n    },\n    {\n      \"column\": \"spacy_pos\",\n      \"properties\": {\n        \"dtype\": \"object\",\n        \"semantic_type\": \"\",\n        \"description\": \"\"\n      }\n    },\n    {\n      \"column\": \"named_entities\",\n      \"properties\": {\n        \"dtype\": \"object\",\n        \"semantic_type\": \"\",\n        \"description\": \"\"\n      }\n    },\n    {\n      \"column\": \"dependencies\",\n      \"properties\": {\n        \"dtype\": \"object\",\n        \"semantic_type\": \"\",\n        \"description\": \"\"\n      }\n    }\n  ]\n}"
            }
          },
          "metadata": {},
          "execution_count": 13
        }
      ]
    },
    {
      "cell_type": "markdown",
      "source": [
        "**Шаг 5**: визуализация результатов"
      ],
      "metadata": {
        "id": "wmY77WJhRjkX"
      }
    },
    {
      "cell_type": "code",
      "execution_count": 14,
      "metadata": {
        "colab": {
          "base_uri": "https://localhost:8080/",
          "height": 297
        },
        "id": "BjY98Gl7AvjD",
        "outputId": "f51a7f08-ae60-4046-fefd-2970a39ac5ad"
      },
      "outputs": [
        {
          "output_type": "display_data",
          "data": {
            "text/plain": [
              "<IPython.core.display.HTML object>"
            ],
            "text/html": [
              "<span class=\"tex2jax_ignore\"><svg xmlns=\"http://www.w3.org/2000/svg\" xmlns:xlink=\"http://www.w3.org/1999/xlink\" xml:lang=\"en\" id=\"2ddcae667b1f46558ab1abf22c20b368-0\" class=\"displacy\" width=\"1010\" height=\"257.0\" direction=\"ltr\" style=\"max-width: none; height: 257.0px; color: #000000; background: #ffffff; font-family: Arial; direction: ltr\">\n",
              "<text class=\"displacy-token\" fill=\"currentColor\" text-anchor=\"middle\" y=\"167.0\">\n",
              "    <tspan class=\"displacy-word\" fill=\"currentColor\" x=\"50\">John</tspan>\n",
              "    <tspan class=\"displacy-tag\" dy=\"2em\" fill=\"currentColor\" x=\"50\">PROPN</tspan>\n",
              "</text>\n",
              "\n",
              "<text class=\"displacy-token\" fill=\"currentColor\" text-anchor=\"middle\" y=\"167.0\">\n",
              "    <tspan class=\"displacy-word\" fill=\"currentColor\" x=\"170\">is</tspan>\n",
              "    <tspan class=\"displacy-tag\" dy=\"2em\" fill=\"currentColor\" x=\"170\">AUX</tspan>\n",
              "</text>\n",
              "\n",
              "<text class=\"displacy-token\" fill=\"currentColor\" text-anchor=\"middle\" y=\"167.0\">\n",
              "    <tspan class=\"displacy-word\" fill=\"currentColor\" x=\"290\">studying</tspan>\n",
              "    <tspan class=\"displacy-tag\" dy=\"2em\" fill=\"currentColor\" x=\"290\">VERB</tspan>\n",
              "</text>\n",
              "\n",
              "<text class=\"displacy-token\" fill=\"currentColor\" text-anchor=\"middle\" y=\"167.0\">\n",
              "    <tspan class=\"displacy-word\" fill=\"currentColor\" x=\"410\">at</tspan>\n",
              "    <tspan class=\"displacy-tag\" dy=\"2em\" fill=\"currentColor\" x=\"410\">ADP</tspan>\n",
              "</text>\n",
              "\n",
              "<text class=\"displacy-token\" fill=\"currentColor\" text-anchor=\"middle\" y=\"167.0\">\n",
              "    <tspan class=\"displacy-word\" fill=\"currentColor\" x=\"530\">the</tspan>\n",
              "    <tspan class=\"displacy-tag\" dy=\"2em\" fill=\"currentColor\" x=\"530\">DET</tspan>\n",
              "</text>\n",
              "\n",
              "<text class=\"displacy-token\" fill=\"currentColor\" text-anchor=\"middle\" y=\"167.0\">\n",
              "    <tspan class=\"displacy-word\" fill=\"currentColor\" x=\"650\">University</tspan>\n",
              "    <tspan class=\"displacy-tag\" dy=\"2em\" fill=\"currentColor\" x=\"650\">PROPN</tspan>\n",
              "</text>\n",
              "\n",
              "<text class=\"displacy-token\" fill=\"currentColor\" text-anchor=\"middle\" y=\"167.0\">\n",
              "    <tspan class=\"displacy-word\" fill=\"currentColor\" x=\"770\">of</tspan>\n",
              "    <tspan class=\"displacy-tag\" dy=\"2em\" fill=\"currentColor\" x=\"770\">ADP</tspan>\n",
              "</text>\n",
              "\n",
              "<text class=\"displacy-token\" fill=\"currentColor\" text-anchor=\"middle\" y=\"167.0\">\n",
              "    <tspan class=\"displacy-word\" fill=\"currentColor\" x=\"890\">California.</tspan>\n",
              "    <tspan class=\"displacy-tag\" dy=\"2em\" fill=\"currentColor\" x=\"890\">PROPN</tspan>\n",
              "</text>\n",
              "\n",
              "<g class=\"displacy-arrow\">\n",
              "    <path class=\"displacy-arc\" id=\"arrow-2ddcae667b1f46558ab1abf22c20b368-0-0\" stroke-width=\"2px\" d=\"M70,122.0 C70,2.0 290.0,2.0 290.0,122.0\" fill=\"none\" stroke=\"currentColor\"/>\n",
              "    <text dy=\"1.25em\" style=\"font-size: 0.8em; letter-spacing: 1px\">\n",
              "        <textPath xlink:href=\"#arrow-2ddcae667b1f46558ab1abf22c20b368-0-0\" class=\"displacy-label\" startOffset=\"50%\" side=\"left\" fill=\"currentColor\" text-anchor=\"middle\">nsubj</textPath>\n",
              "    </text>\n",
              "    <path class=\"displacy-arrowhead\" d=\"M70,124.0 L62,112.0 78,112.0\" fill=\"currentColor\"/>\n",
              "</g>\n",
              "\n",
              "<g class=\"displacy-arrow\">\n",
              "    <path class=\"displacy-arc\" id=\"arrow-2ddcae667b1f46558ab1abf22c20b368-0-1\" stroke-width=\"2px\" d=\"M190,122.0 C190,62.0 285.0,62.0 285.0,122.0\" fill=\"none\" stroke=\"currentColor\"/>\n",
              "    <text dy=\"1.25em\" style=\"font-size: 0.8em; letter-spacing: 1px\">\n",
              "        <textPath xlink:href=\"#arrow-2ddcae667b1f46558ab1abf22c20b368-0-1\" class=\"displacy-label\" startOffset=\"50%\" side=\"left\" fill=\"currentColor\" text-anchor=\"middle\">aux</textPath>\n",
              "    </text>\n",
              "    <path class=\"displacy-arrowhead\" d=\"M190,124.0 L182,112.0 198,112.0\" fill=\"currentColor\"/>\n",
              "</g>\n",
              "\n",
              "<g class=\"displacy-arrow\">\n",
              "    <path class=\"displacy-arc\" id=\"arrow-2ddcae667b1f46558ab1abf22c20b368-0-2\" stroke-width=\"2px\" d=\"M310,122.0 C310,62.0 405.0,62.0 405.0,122.0\" fill=\"none\" stroke=\"currentColor\"/>\n",
              "    <text dy=\"1.25em\" style=\"font-size: 0.8em; letter-spacing: 1px\">\n",
              "        <textPath xlink:href=\"#arrow-2ddcae667b1f46558ab1abf22c20b368-0-2\" class=\"displacy-label\" startOffset=\"50%\" side=\"left\" fill=\"currentColor\" text-anchor=\"middle\">prep</textPath>\n",
              "    </text>\n",
              "    <path class=\"displacy-arrowhead\" d=\"M405.0,124.0 L413.0,112.0 397.0,112.0\" fill=\"currentColor\"/>\n",
              "</g>\n",
              "\n",
              "<g class=\"displacy-arrow\">\n",
              "    <path class=\"displacy-arc\" id=\"arrow-2ddcae667b1f46558ab1abf22c20b368-0-3\" stroke-width=\"2px\" d=\"M550,122.0 C550,62.0 645.0,62.0 645.0,122.0\" fill=\"none\" stroke=\"currentColor\"/>\n",
              "    <text dy=\"1.25em\" style=\"font-size: 0.8em; letter-spacing: 1px\">\n",
              "        <textPath xlink:href=\"#arrow-2ddcae667b1f46558ab1abf22c20b368-0-3\" class=\"displacy-label\" startOffset=\"50%\" side=\"left\" fill=\"currentColor\" text-anchor=\"middle\">det</textPath>\n",
              "    </text>\n",
              "    <path class=\"displacy-arrowhead\" d=\"M550,124.0 L542,112.0 558,112.0\" fill=\"currentColor\"/>\n",
              "</g>\n",
              "\n",
              "<g class=\"displacy-arrow\">\n",
              "    <path class=\"displacy-arc\" id=\"arrow-2ddcae667b1f46558ab1abf22c20b368-0-4\" stroke-width=\"2px\" d=\"M430,122.0 C430,2.0 650.0,2.0 650.0,122.0\" fill=\"none\" stroke=\"currentColor\"/>\n",
              "    <text dy=\"1.25em\" style=\"font-size: 0.8em; letter-spacing: 1px\">\n",
              "        <textPath xlink:href=\"#arrow-2ddcae667b1f46558ab1abf22c20b368-0-4\" class=\"displacy-label\" startOffset=\"50%\" side=\"left\" fill=\"currentColor\" text-anchor=\"middle\">pobj</textPath>\n",
              "    </text>\n",
              "    <path class=\"displacy-arrowhead\" d=\"M650.0,124.0 L658.0,112.0 642.0,112.0\" fill=\"currentColor\"/>\n",
              "</g>\n",
              "\n",
              "<g class=\"displacy-arrow\">\n",
              "    <path class=\"displacy-arc\" id=\"arrow-2ddcae667b1f46558ab1abf22c20b368-0-5\" stroke-width=\"2px\" d=\"M670,122.0 C670,62.0 765.0,62.0 765.0,122.0\" fill=\"none\" stroke=\"currentColor\"/>\n",
              "    <text dy=\"1.25em\" style=\"font-size: 0.8em; letter-spacing: 1px\">\n",
              "        <textPath xlink:href=\"#arrow-2ddcae667b1f46558ab1abf22c20b368-0-5\" class=\"displacy-label\" startOffset=\"50%\" side=\"left\" fill=\"currentColor\" text-anchor=\"middle\">prep</textPath>\n",
              "    </text>\n",
              "    <path class=\"displacy-arrowhead\" d=\"M765.0,124.0 L773.0,112.0 757.0,112.0\" fill=\"currentColor\"/>\n",
              "</g>\n",
              "\n",
              "<g class=\"displacy-arrow\">\n",
              "    <path class=\"displacy-arc\" id=\"arrow-2ddcae667b1f46558ab1abf22c20b368-0-6\" stroke-width=\"2px\" d=\"M790,122.0 C790,62.0 885.0,62.0 885.0,122.0\" fill=\"none\" stroke=\"currentColor\"/>\n",
              "    <text dy=\"1.25em\" style=\"font-size: 0.8em; letter-spacing: 1px\">\n",
              "        <textPath xlink:href=\"#arrow-2ddcae667b1f46558ab1abf22c20b368-0-6\" class=\"displacy-label\" startOffset=\"50%\" side=\"left\" fill=\"currentColor\" text-anchor=\"middle\">pobj</textPath>\n",
              "    </text>\n",
              "    <path class=\"displacy-arrowhead\" d=\"M885.0,124.0 L893.0,112.0 877.0,112.0\" fill=\"currentColor\"/>\n",
              "</g>\n",
              "</svg></span>"
            ]
          },
          "metadata": {}
        }
      ],
      "source": [
        "# этот код позволяет отобразить дерево зависимостей с помощью SpaCy\n",
        "# посмотрите, как работает ваша разметка\n",
        "# рекомендуется самостоятельное знакомство с библиотекой displacy\n",
        "example_text = texts[0] # попробуйте визуализировать любой другой текст\n",
        "doc = nlp(example_text)\n",
        "displacy.render(doc, style=\"dep\", jupyter=True, options={\"distance\": 120})"
      ]
    },
    {
      "cell_type": "markdown",
      "source": [
        "**Шаг 7**: загрузка на HF Datasets\n",
        "\n",
        "Ссылка на ваш датасет:\n",
        "\n",
        "1."
      ],
      "metadata": {
        "id": "jtEjVtQFR8Ct"
      }
    },
    {
      "cell_type": "code",
      "source": [
        "# Создаем датасет\n",
        "from datasets import Dataset\n",
        "dataset = Dataset.from_pandas(df)\n",
        "\n",
        "# Публикация датасета\n",
        "# Замените 'your_dataset_name' на имя вашего датасета и добавьте токен.\n",
        "# dataset.push_to_hub(\"your_dataset_name\", token=\"your_hf_token\")\n",
        "\n",
        "# просмотр результатов\n",
        "dataset"
      ],
      "metadata": {
        "colab": {
          "base_uri": "https://localhost:8080/"
        },
        "id": "y-TzL7A4I66R",
        "outputId": "96c41574-dc41-4c94-c543-9884f436e7f5"
      },
      "execution_count": 15,
      "outputs": [
        {
          "output_type": "execute_result",
          "data": {
            "text/plain": [
              "Dataset({\n",
              "    features: ['text', 'nltk_pos', 'spacy_pos', 'named_entities', 'dependencies'],\n",
              "    num_rows: 3\n",
              "})"
            ]
          },
          "metadata": {},
          "execution_count": 15
        }
      ]
    }
  ]
}