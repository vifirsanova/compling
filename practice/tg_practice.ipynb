{
  "nbformat": 4,
  "nbformat_minor": 0,
  "metadata": {
    "colab": {
      "provenance": [],
      "include_colab_link": true
    },
    "kernelspec": {
      "name": "python3",
      "display_name": "Python 3"
    },
    "language_info": {
      "name": "python"
    }
  },
  "cells": [
    {
      "cell_type": "markdown",
      "metadata": {
        "id": "view-in-github",
        "colab_type": "text"
      },
      "source": [
        "<a href=\"https://colab.research.google.com/github/vifirsanova/compling/blob/main/practice/tg_practice.ipynb\" target=\"_parent\"><img src=\"https://colab.research.google.com/assets/colab-badge.svg\" alt=\"Open In Colab\"/></a>"
      ]
    },
    {
      "cell_type": "markdown",
      "source": [
        "```2025 (c) В.И. Фирсанова```\n",
        "\n",
        "### **Что такое асинхронность**  \n",
        "Обычные программы выполняют задачи **по очереди**. Например, вы написали программу, которая состоит из двух шагов: загрузки данных и вывода сообщения на экран. В каком порядке будут выводиться сообщения? Сообщение появится только после завершения загрузки. Такой тип программ не подойдет для создания бота: пользователь будет ждать выполнения каждого действия очень долго. Это ухудшает пользовательский опыт.\n",
        "\n",
        "Асинхронные программы работают **параллельно**. Это значит, что программа может переключиться на другую задачу, не останавливая текущую. Например, мы сможем выводить сообщения для пользователя в процессе загрузки данных.  \n",
        "\n",
        "### **Почему Telegram-боты делают асинхронными**  \n",
        "**Асинхронный бот**:  \n",
        "- обрабатывает несколько сообщений одновременно\n",
        "- отправляет запросы на сервер и продолжает работу, не дожидаясь ответа сервера\n",
        "\n",
        "Телеграм позволяет разрабатывать **синхронные** боты. Такой вариант больше подходит для новичков, но такие боты:\n",
        "- отвечают медленнее при большом количестве запросов\n",
        "- ждут завершения каждой операции перед обработкой следующего сообщения\n",
        "\n",
        "### **Что такое `asyncio`, `async`, `await`**  \n",
        "Это методы, которые мы освоим на сегодняшнем туториале\n",
        "- `asyncio` — библиотека для работы с асинхронным кодом\n",
        "- `async` — объявляет асинхронную функцию\n",
        "- `await` — приостанавливает выполнение, позволяя другим задачам выполняться в это время"
      ],
      "metadata": {
        "id": "0RstyLymU9p7"
      }
    },
    {
      "cell_type": "markdown",
      "source": [
        "Где изучать библиотеки для создания Telegram-ботов?\n",
        "\n",
        "`aiogram`\n",
        "- асинхронная библиотека\n",
        "- использует `asyncio`\n",
        "- одна из самых производительных\n",
        "\n",
        "*Учим здесь: https://mastergroosha.github.io/aiogram-3-guide/*\n",
        "\n",
        "`telebot`\n",
        "- синхронный бот\n",
        "- подходит для первых экспериментов\n",
        "\n",
        "*Образец использования: https://habr.com/ru/articles/580408/*\n",
        "\n",
        "Другие библиотеки: `pyrogram`, `telethon`, `python-telegram-bot`\n",
        "\n",
        "Советы:\n",
        "- не бойтесь разбираться в официальной документации\n",
        "- обращайте внимание на версии библиотек (например, `aiogram 2` и `aiogram 3` очень разные!)\n",
        "- Хабр в помощь! Там очень много ценных материалов по разработке ТГ-ботов"
      ],
      "metadata": {
        "id": "ao6Q6iSqYDnw"
      }
    },
    {
      "cell_type": "markdown",
      "source": [
        "### Работа с `aiogram` и знакомство с асинхронным кодом"
      ],
      "metadata": {
        "id": "QW1sBoNFaL4C"
      }
    },
    {
      "cell_type": "code",
      "execution_count": 1,
      "metadata": {
        "id": "nqt_Ir3UZC9p",
        "colab": {
          "base_uri": "https://localhost:8080/"
        },
        "outputId": "45998716-5747-4cf2-b0ec-5076ee031260"
      },
      "outputs": [
        {
          "output_type": "stream",
          "name": "stdout",
          "text": [
            "\u001b[?25l   \u001b[90m━━━━━━━━━━━━━━━━━━━━━━━━━━━━━━━━━━━━━━━━\u001b[0m \u001b[32m0.0/610.0 kB\u001b[0m \u001b[31m?\u001b[0m eta \u001b[36m-:--:--\u001b[0m\r\u001b[2K   \u001b[91m━━━━━━━━━━━━━━━━━━━━━━━━━━━━━━━━━━━━━━\u001b[0m\u001b[91m╸\u001b[0m\u001b[90m━\u001b[0m \u001b[32m593.9/610.0 kB\u001b[0m \u001b[31m16.6 MB/s\u001b[0m eta \u001b[36m0:00:01\u001b[0m\r\u001b[2K   \u001b[90m━━━━━━━━━━━━━━━━━━━━━━━━━━━━━━━━━━━━━━━━\u001b[0m \u001b[32m610.0/610.0 kB\u001b[0m \u001b[31m10.1 MB/s\u001b[0m eta \u001b[36m0:00:00\u001b[0m\n",
            "\u001b[?25h"
          ]
        }
      ],
      "source": [
        "!pip install aiogram -q"
      ]
    },
    {
      "cell_type": "code",
      "source": [
        "# Импортируем необходимые модули\n",
        "from aiogram import Bot, Dispatcher, types  # Основные классы для работы с ботом\n",
        "import logging  # Логирование для отслеживания работы бота\n",
        "import asyncio  # Модуль для работы с асинхронным кодом\n",
        "import sys  # Используется для работы с системными вызовами\n",
        "\n",
        "# Токен API бота (его нужно заменить на реальный токен, полученный у BotFather)\n",
        "API_TOKEN = \"\"\n",
        "\n",
        "# Настраиваем логирование, чтобы видеть информацию о работе бота в консоли\n",
        "logging.basicConfig(level=logging.INFO)\n",
        "# Создаем объект диспетчера, который управляет входящими сообщениями и командами\n",
        "dp = Dispatcher()\n",
        "\n",
        "# Декоратор @dp.message() указывает, что функция будет обрабатывать входящие сообщения\n",
        "@dp.message()\n",
        "async def echo(message: types.Message):\n",
        "    \"\"\"\n",
        "    Асинхронная функция (корутина), которая отвечает пользователю.\n",
        "    Она получает объект сообщения и отправляет ответ.\n",
        "\n",
        "    :param message: объект сообщения от пользователя\n",
        "    \"\"\"\n",
        "    await message.answer(\"Привет! Я твой бот.\")  # Отправляем ответное сообщение\n",
        "\n",
        "async def main():\n",
        "    \"\"\"\n",
        "    Основная асинхронная функция для запуска бота.\n",
        "    1. Создает объект бота с API токеном.\n",
        "    2. Запускает диспетчер, который начинает обрабатывать сообщения.\n",
        "    \"\"\"\n",
        "    bot = Bot(token=API_TOKEN)\n",
        "    await dp.start_polling(bot)\n",
        "\n",
        "# Проверяем, запущен ли скрипт напрямую (не импортирован в другой файл)\n",
        "if __name__ == \"__main__\":\n",
        "    # Запускаем основную функцию\n",
        "    await main()"
      ],
      "metadata": {
        "colab": {
          "base_uri": "https://localhost:8080/"
        },
        "id": "5zo_tsvOZvOS",
        "outputId": "d8f158c1-9fb6-43ae-8613-b21bed2854cb"
      },
      "execution_count": 2,
      "outputs": [
        {
          "output_type": "stream",
          "name": "stderr",
          "text": [
            "WARNING:aiogram.dispatcher:Received SIGINT signal\n"
          ]
        }
      ]
    },
    {
      "cell_type": "markdown",
      "source": [
        "**Асинхронные функции (`async def`)**  \n",
        "   - позволяет выполнять код без блокировки программы\n",
        "   - например, ожидание ответа от сервера не мешает обработке новых сообщений\n",
        "   - `await` используется внутри асинхронных функций для вызова других асинхронных операций, например, для ответа пользователю\n",
        "\n",
        "**Объект `Dispatcher`**  \n",
        "   - управляет обработкой входящих сообщений\n",
        "   - декораторы (`@dp.message()`) регистрируют функции бота\n",
        "\n",
        "**Объект `Bot`**  \n",
        "   - используется для отправки сообщений и работы с API Telegram"
      ],
      "metadata": {
        "id": "Q7VDZ4REbNoR"
      }
    },
    {
      "cell_type": "code",
      "source": [
        "from aiogram.filters import Command\n",
        "\n",
        "dp = Dispatcher()\n",
        "\n",
        "# Обрабатываем команды \"/start\" и \"/help\"\n",
        "@dp.message(Command(\"start\", \"help\")) # Фильтр команд\n",
        "async def send_welcome(message: types.Message):\n",
        "    \"\"\"\n",
        "    Функция отвечает пользователю, когда он отправляет команду /start или /help.\n",
        "    \"\"\"\n",
        "    await message.answer(\"Привет! Я бот, который может отвечать на частые вопросы.\")\n",
        "\n",
        "# Создаём словарь с ответами на часто задаваемые вопросы (FAQ)\n",
        "faq = {\n",
        "    \"цена\": \"Цена зависит от тарифа. Посетите наш сайт.\",\n",
        "    \"время работы\": \"Мы работаем с 9:00 до 18:00 без выходных.\"\n",
        "}\n",
        "\n",
        "# Обрабатываем все входящие сообщения\n",
        "@dp.message()\n",
        "async def answer_faq(message: types.Message):\n",
        "    \"\"\"\n",
        "    Функция получает текст сообщения, проверяет его в словаре и отправляет ответ.\n",
        "    Если вопрос не найден в словаре, бот отправляет сообщение о неизвестном вопросе.\n",
        "    \"\"\"\n",
        "    text = message.text.lower() # Приводим текст к нижнему регистру\n",
        "    response = faq.get(text, \"Я не знаю ответа на этот вопрос.\") # Ищем ответ в словаре\n",
        "    await message.answer(response)  # Отправляем ответ пользователю\n",
        "\n",
        "async def main():\n",
        "    bot = Bot(token=API_TOKEN)\n",
        "    await dp.start_polling(bot)\n",
        "\n",
        "if __name__ == \"__main__\":\n",
        "    await main()"
      ],
      "metadata": {
        "id": "zJajmctxnNsF",
        "colab": {
          "base_uri": "https://localhost:8080/"
        },
        "outputId": "e5dfb4dc-7904-4d26-e8d9-2ca0e5a53e8d"
      },
      "execution_count": 8,
      "outputs": [
        {
          "output_type": "stream",
          "name": "stderr",
          "text": [
            "WARNING:aiogram.dispatcher:Received SIGINT signal\n"
          ]
        }
      ]
    },
    {
      "cell_type": "markdown",
      "source": [
        "Мы научились обрабатывать команды и работать со словарем"
      ],
      "metadata": {
        "id": "Sm8PccSWgEAT"
      }
    },
    {
      "cell_type": "code",
      "source": [
        "dp = Dispatcher()\n",
        "\n",
        "@dp.message(Command(\"start\", \"help\"))\n",
        "async def send_welcome(message: types.Message):\n",
        "    await message.answer(\"Привет! Я бот, который может парсить документы.\")\n",
        "\n",
        "# Декоратор указывает, что функция `handle_docs` должна быть вызвана,\n",
        "# когда пользователь отправляет сообщение, содержащее документ.\n",
        "@dp.message(lambda message: message.document)\n",
        "async def handle_docs(message: types.Message):\n",
        "    # Асинхронная функция, которая обрабатывает полученное сообщение\n",
        "    document = message.document\n",
        "    # Извлекаем информацию о документе из сообщения\n",
        "    file_info = f\"Файл: {document.file_name}\\nРазмер: {document.file_size} байт\" # Создаем строку с информацией о файле (имя и размер)\n",
        "    await message.answer(file_info) # Отправляем пользователю сообщение с информацией о файле\n",
        "\n",
        "async def main():\n",
        "    bot = Bot(token=API_TOKEN)\n",
        "    await dp.start_polling(bot)\n",
        "\n",
        "if __name__ == \"__main__\":\n",
        "    await main()"
      ],
      "metadata": {
        "id": "TvadwJCq2WoI",
        "colab": {
          "base_uri": "https://localhost:8080/"
        },
        "outputId": "b5d86987-6bc0-4452-dc64-1a4b145f3e34"
      },
      "execution_count": 13,
      "outputs": [
        {
          "output_type": "stream",
          "name": "stderr",
          "text": [
            "WARNING:aiogram.dispatcher:Received SIGINT signal\n"
          ]
        }
      ]
    },
    {
      "cell_type": "markdown",
      "source": [
        "Мы научились принимать документы через бот"
      ],
      "metadata": {
        "id": "lcM2zeiihRYK"
      }
    },
    {
      "cell_type": "code",
      "source": [
        "import aiofiles\n",
        "\n",
        "dp = Dispatcher()\n",
        "bot = Bot(token=API_TOKEN)\n",
        "\n",
        "@dp.message(Command(\"start\", \"help\"))\n",
        "async def send_welcome(message: types.Message):\n",
        "    await message.answer(\"Привет! Я бот, который может парсить документы.\")\n",
        "\n",
        "# Обрабатываем входящие документы (файлы)\n",
        "@dp.message(lambda message: message.document) # Проверяем, является ли сообщение документом\n",
        "async def handle_text_file(message: types.Message):\n",
        "    \"\"\"\n",
        "    Функция загружает отправленный пользователем текстовый файл,\n",
        "    читает его содержимое и считает количество слов.\n",
        "    \"\"\"\n",
        "    # Скачиваем файл во временную директорию\n",
        "    await bot.download(\n",
        "        message.document, # Наш файл\n",
        "        destination=\"temp.txt\" # Имя файла, под которым он будет сохранён\n",
        "    )\n",
        "\n",
        "    # Асинхронно открываем файл и читаем его содержимое\n",
        "    async with aiofiles.open(\"temp.txt\", mode='r', encoding='utf-8') as f:\n",
        "        content = await f.read()\n",
        "\n",
        "    # Считаем количество слов в тексте\n",
        "    word_count = len(content.split())\n",
        "\n",
        "    # Отправляем пользователю информацию о количестве слов\n",
        "    await message.answer(f\"Файл загружен. Количество слов: {word_count}\")\n",
        "\n",
        "async def main():\n",
        "    await dp.start_polling(bot)\n",
        "\n",
        "if __name__ == \"__main__\":\n",
        "    await main()"
      ],
      "metadata": {
        "colab": {
          "base_uri": "https://localhost:8080/"
        },
        "id": "hqsGNd6nAHO2",
        "outputId": "aa331e94-d4e2-48b4-c0e4-240dc65568e3"
      },
      "execution_count": 15,
      "outputs": [
        {
          "output_type": "stream",
          "name": "stderr",
          "text": [
            "WARNING:aiogram.dispatcher:Received SIGINT signal\n"
          ]
        }
      ]
    },
    {
      "cell_type": "markdown",
      "source": [
        "Теперь мы умеем обрабатывать документы"
      ],
      "metadata": {
        "id": "shr-F4lB5WRi"
      }
    },
    {
      "cell_type": "code",
      "source": [
        "from aiogram.types import ReplyKeyboardMarkup, KeyboardButton\n",
        "\n",
        "dp = Dispatcher()\n",
        "\n",
        "# Создаём список кнопок для клавиатуры\n",
        "kb = [\n",
        "    [\n",
        "        KeyboardButton(text=\"О боте\"), # Кнопка для запроса информации о боте\n",
        "        KeyboardButton(text=\"Помощь\")  # Кнопка для получения справки\n",
        "    ]\n",
        "]\n",
        "\n",
        "# Создаём объект клавиатуры с кнопками\n",
        "keyboard = ReplyKeyboardMarkup(\n",
        "    keyboard=kb, # Передаём список кнопок\n",
        "    resize_keyboard=True, # Уменьшаем клавиатуру под размер экрана\n",
        "    input_field_placeholder=\"Выберите действие\" # Текст-подсказка в поле ввода\n",
        "    )\n",
        "\n",
        "@dp.message(Command(\"start\"))\n",
        "async def start_command(message: types.Message):\n",
        "    await message.answer(\"С чем вам помочь?\", reply_markup=keyboard) # Отправляем сообщение с клавиатурой в команду start\n",
        "\n",
        "# Обрабатываем нажатие кнопки \"О боте\"\n",
        "@dp.message(lambda message: message.text == \"О боте\") # Фильтр для сообщений с текстом \"О боте\"\n",
        "async def about_bot(message: types.Message):\n",
        "    \"\"\"\n",
        "    Функция отвечает пользователю, если он нажал кнопку \"О боте\".\n",
        "    \"\"\"\n",
        "    await message.answer(\"Я Telegram-бот, который помогает обрабатывать текст и файлы!\")\n",
        "\n",
        "# Обрабатываем нажатие кнопки \"Помощь\"\n",
        "@dp.message(lambda message: message.text == \"Помощь\") # Фильтр для сообщений с текстом \"Помощь\"\n",
        "async def about_bot(message: types.Message):\n",
        "    \"\"\"\n",
        "    Функция отправляет пользователю справочную информацию.\n",
        "    \"\"\"\n",
        "    await message.answer(\"Привет! Я бот, который может парсить документы.\")\n",
        "\n",
        "async def main():\n",
        "    bot = Bot(token=API_TOKEN)\n",
        "    await dp.start_polling(bot)\n",
        "\n",
        "if __name__ == \"__main__\":\n",
        "    await main()"
      ],
      "metadata": {
        "colab": {
          "base_uri": "https://localhost:8080/"
        },
        "id": "-w9zEeQy9-jD",
        "outputId": "8e60eb20-e488-4df4-b7bc-60ee7bcd2414"
      },
      "execution_count": 11,
      "outputs": [
        {
          "output_type": "stream",
          "name": "stderr",
          "text": [
            "WARNING:aiogram.dispatcher:Received SIGINT signal\n"
          ]
        }
      ]
    },
    {
      "cell_type": "markdown",
      "source": [
        "И теперь мы можем создавать кнопки с разным функционалом"
      ],
      "metadata": {
        "id": "6lSLzHKT5s7C"
      }
    }
  ]
}
