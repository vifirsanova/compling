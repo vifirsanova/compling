{
  "nbformat": 4,
  "nbformat_minor": 0,
  "metadata": {
    "colab": {
      "provenance": [],
      "authorship_tag": "ABX9TyO2UlS1FKMRenB7ZAl1u16/",
      "include_colab_link": true
    },
    "kernelspec": {
      "name": "python3",
      "display_name": "Python 3"
    },
    "language_info": {
      "name": "python"
    }
  },
  "cells": [
    {
      "cell_type": "markdown",
      "metadata": {
        "id": "view-in-github",
        "colab_type": "text"
      },
      "source": [
        "<a href=\"https://colab.research.google.com/github/vifirsanova/compling/blob/main/projects/ner_project.ipynb\" target=\"_parent\"><img src=\"https://colab.research.google.com/assets/colab-badge.svg\" alt=\"Open In Colab\"/></a>"
      ]
    },
    {
      "cell_type": "markdown",
      "source": [
        "Шаблон проекта по теме \"Распознавание именованных сущностей\"\n",
        "\n",
        "Критерии оценивания\n",
        "\n",
        "- Выбрано не менее 5 отрывков из художественного произведений длиной 500-1000 символов, в которых встречаются личные имена, названия организаций, топонимы, дни недели и даты в разной форме, названия валют (2 балла)\n",
        "- Применен инструмент spaCy для автоматической разметки именованных сущностей в каждом отрывке (2 балла)\n",
        "- Произведена визуализация разметки с помощью displacy (2 балла)\n",
        "- В текстовом описании *.ipnb представлены ответы на вопросы:\n",
        "  - Обнаружили ли вы ошибки в работе модели? Какие теги показались вам избыточными, а каких напротив, на ваш взгляд, не хватает? (2 балла)\n",
        "- В текстовом описании *.ipnb представлен список задач, для решения которых может понадобиться такая разметка (2 балла)\n"
      ],
      "metadata": {
        "id": "jESJFTHIJpkG"
      }
    },
    {
      "cell_type": "markdown",
      "source": [
        "### Шаг 1\n",
        "\n",
        "Откройте и загрузите файлы, с отрывками выбранных художественных произведений\n",
        "\n",
        "Рекомендуемый формат файлов - *.txt\n",
        "\n",
        "Используйте следующие сниппеты кода в качестве подсказки"
      ],
      "metadata": {
        "id": "tX1jwp-IKX-Q"
      }
    },
    {
      "cell_type": "code",
      "execution_count": null,
      "metadata": {
        "id": "SWMioP5EJlER"
      },
      "outputs": [],
      "source": [
        "# Укажите путь к вашему файлу\n",
        "file_path = 'example.txt'\n",
        "\n",
        "# Открываем файл в режиме чтения\n",
        "try:\n",
        "    with open(file_path, 'r', encoding='utf-8') as file:\n",
        "        # Читаем содержимое файла\n",
        "        content = file.read()\n",
        "        print(content)\n",
        "except FileNotFoundError:\n",
        "    print(f\"Файл {file_path} не найден.\")\n",
        "except Exception as e:\n",
        "    print(f\"Произошла ошибка: {e}\")"
      ]
    },
    {
      "cell_type": "markdown",
      "source": [
        "### Шаг 2\n",
        "\n",
        "Примените spacy, чтобы получить списки именованных сущностей для каждого текста\n",
        "\n",
        "Не забудьте установить spacy, воспользуйтесь примером\n",
        "\n",
        "Если вы размечаете данные на русском языке, необходимо загрузить русскоязычную модель: ее нужно найти в документации spacy\n",
        "\n",
        "Используйте цикл for или функции def, чтобы разметить все тексты сразу"
      ],
      "metadata": {
        "id": "OBW6RgLnK0Um"
      }
    },
    {
      "cell_type": "code",
      "source": [
        "import spacy\n",
        "\n",
        "# Загрузка модели для английского языка\n",
        "nlp = spacy.load(\"en_core_web_sm\")\n",
        "\n",
        "# Пример текста\n",
        "text = \"\"\"\n",
        "Apple is looking at buying U.K. startup for $1 billion.\n",
        "Barack Obama was the 44th President of the United States.\n",
        "The Eiffel Tower is located in Paris, France.\n",
        "\"\"\"\n",
        "\n",
        "# Обработка текста\n",
        "doc = nlp(text)\n",
        "\n",
        "# Извлечение именованных сущностей\n",
        "for ent in doc.ents:\n",
        "    print(ent.text, ent.label_)"
      ],
      "metadata": {
        "id": "X3cF2jwtLLrq"
      },
      "execution_count": null,
      "outputs": []
    },
    {
      "cell_type": "markdown",
      "source": [
        "### Шаг 3\n",
        "\n",
        "Визуализируйте разметку с помощью displacy\n",
        "\n",
        "Ориентируйтесь на пример"
      ],
      "metadata": {
        "id": "-tyXakHjLOgf"
      }
    },
    {
      "cell_type": "code",
      "source": [
        "from spacy import displacy\n",
        "\n",
        "# Визуализация именованных сущностей\n",
        "displacy.render(doc, style=\"ent\", jupyter=False)"
      ],
      "metadata": {
        "id": "wHT5OfyTLjr4"
      },
      "execution_count": null,
      "outputs": []
    },
    {
      "cell_type": "markdown",
      "source": [
        "### Шаг 4\n",
        "\n",
        "Обнаружили ли вы ошибки в работе модели?\n",
        "\n",
        "- введите ваш ответ\n",
        "\n",
        "Какие теги показались вам избыточными, а каких напротив, на ваш взгляд, не хватает?\n",
        "\n",
        "- введите ваш ответ"
      ],
      "metadata": {
        "id": "ogYMhQtnLxH-"
      }
    },
    {
      "cell_type": "markdown",
      "source": [
        "### Шаг 4\n",
        "\n",
        "Представьте список задач, для решения которых может понадобиться такая разметка\n",
        "\n",
        "- введите ваш ответ"
      ],
      "metadata": {
        "id": "WfGECqoTL6vo"
      }
    }
  ]
}
