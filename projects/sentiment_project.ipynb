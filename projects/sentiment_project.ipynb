{
  "nbformat": 4,
  "nbformat_minor": 0,
  "metadata": {
    "colab": {
      "provenance": [],
      "authorship_tag": "ABX9TyPZeuQfS0YKZl2ppZ7+CRCi",
      "include_colab_link": true
    },
    "kernelspec": {
      "name": "python3",
      "display_name": "Python 3"
    },
    "language_info": {
      "name": "python"
    }
  },
  "cells": [
    {
      "cell_type": "markdown",
      "metadata": {
        "id": "view-in-github",
        "colab_type": "text"
      },
      "source": [
        "<a href=\"https://colab.research.google.com/github/vifirsanova/compling/blob/main/projects/sentiment_project.ipynb\" target=\"_parent\"><img src=\"https://colab.research.google.com/assets/colab-badge.svg\" alt=\"Open In Colab\"/></a>"
      ]
    },
    {
      "cell_type": "markdown",
      "source": [
        "Шаблон проекта по теме \"Сентимент-анализ\"\n",
        "\n",
        "Критерии оценивания\n",
        "\n",
        "- Открыт [датасет отзывов на фильмы](https://www.kaggle.com/datasets/columbine/imdb-dataset-sentiment-analysis-in-csv-format) из базы IMDB (или любой другой набор данных для анализа тональности в формате *.csv) (2 балла)\n",
        "- Использована модель NLTK Sentiment Analyzer для автоматической разметки датасета. Пример реализации: https://www.datacamp.com/tutorial/text-analytics-beginners-nltk (2 балла)\n",
        "- Результат разметки с помощью NLTK Sentiment Analyzer преобразован к виду 0 (негативный сентимент) и 1 (позитивный сентимент) (2 балла)\n",
        "- Произведено сравнение результатов NLTK Sentiment Analyzer со значениями из датасета, выполнена оценка с помощью метрик оценки Precision, Recall, F-Score (1 балла)\n",
        "- Выполнена визуализация результатов с использованием матрицы ошибок (1 балл)\n",
        "- С помощью print выведена примеры, которые модель разметила неправильно (1 балл)\n",
        "- Представлены рассуждения на тему того, что могло вызвать ошибки в работе модели (1 балл)"
      ],
      "metadata": {
        "id": "jESJFTHIJpkG"
      }
    },
    {
      "cell_type": "markdown",
      "source": [
        "### Шаг 1\n",
        "\n",
        "Откройте и загрузите датасет с помощью библиотеки pandas\n",
        "\n",
        "Используйте следующие сниппеты кода в качестве подсказки"
      ],
      "metadata": {
        "id": "tX1jwp-IKX-Q"
      }
    },
    {
      "cell_type": "code",
      "execution_count": null,
      "metadata": {
        "id": "SWMioP5EJlER"
      },
      "outputs": [],
      "source": [
        "import pandas as pd\n",
        "\n",
        "# Укажите путь к вашему CSV-файлу\n",
        "file_path = 'example.csv'\n",
        "\n",
        "# Чтение CSV-файла в DataFrame\n",
        "df = pd.read_csv(file_path)\n",
        "\n",
        "# Вывод первых 5 строк DataFrame\n",
        "df.head()"
      ]
    },
    {
      "cell_type": "markdown",
      "source": [
        "### Шаг 2\n",
        "\n",
        "Примените модель NLTK Sentiment Analyzer, чтобы оценки сентимент-скоры (оценки тональности) для каждого текста из датасета\n",
        "\n",
        "Внимание! Если процесс занимает много времени, сократите объем датасета до первых 1000 строк\n",
        "\n",
        "Не забудьте установить все необходимые модули nltk, ориентируйтесь на документацию и сообщения об ошибках nltk\n",
        "\n",
        "Реализация:\n",
        "\n",
        "- Создайте новый столбец, куда вы занесете результаты разметки\n",
        "- Создайте функцию для разметки\n",
        "- Примените функцию к созданному столбцу с помощью pandas apply\n",
        "\n",
        "Используйте сниппеты кода:"
      ],
      "metadata": {
        "id": "OBW6RgLnK0Um"
      }
    },
    {
      "cell_type": "code",
      "source": [
        "import nltk\n",
        "from nltk.sentiment import SentimentIntensityAnalyzer\n",
        "\n",
        "# Загрузка модели VADER — это лексикон и алгоритм для анализа тональности\n",
        "nltk.download('vader_lexicon')\n",
        "\n",
        "# Инициализация анализатора тональности\n",
        "sia = SentimentIntensityAnalyzer()\n",
        "\n",
        "# Пример текста\n",
        "text = \"I love this product! It's absolutely amazing.\"\n",
        "\n",
        "# Анализ тональности\n",
        "sentiment = sia.polarity_scores(text)\n",
        "\n",
        "print(sentiment)"
      ],
      "metadata": {
        "id": "X3cF2jwtLLrq"
      },
      "execution_count": null,
      "outputs": []
    },
    {
      "cell_type": "markdown",
      "source": [
        "Сниппет для реализации разметки с помощью pandas"
      ],
      "metadata": {
        "id": "p5rOf4CaRRMP"
      }
    },
    {
      "cell_type": "code",
      "source": [
        "# Функция для анализа тональности\n",
        "def analyze_sentiment(text):\n",
        "    return sia.polarity_scores(text)\n",
        "\n",
        "# Применение функции к столбцу 'Text'\n",
        "df['Sentiment'] = df['Text'].apply(analyze_sentiment)"
      ],
      "metadata": {
        "id": "OW0HE2FPRBYr"
      },
      "execution_count": null,
      "outputs": []
    },
    {
      "cell_type": "markdown",
      "source": [
        "### Шаг 3\n",
        "\n",
        "Результат разметки NLTK выглядит так: `{'neg': 0.0, 'neu': 0.264, 'pos': 0.736, 'compound': 0.8316}`\n",
        "\n",
        "При этом в датасете используется разметка, где 0 означает негативный сентимент, а 1 - позитивный\n",
        "\n",
        "Используйте условия, функции и pandas apply, чтобы найти метку с наибольшим значением (в нашем примере это `'pos': 0.736`) и на основе этой информации произвести замену `{'neg': 0.0, 'neu': 0.264, 'pos': 0.736, 'compound': 0.8316}` на `1`"
      ],
      "metadata": {
        "id": "-tyXakHjLOgf"
      }
    },
    {
      "cell_type": "code",
      "source": [
        "# Функция для преобразования словаря с настроением в метку 0 или 1\n",
        "def sentiment_to_label(sentiment_dict):\n",
        "    # Найти ключ с максимальным значением\n",
        "    max_key = max(sentiment_dict, key=sentiment_dict.get)\n",
        "    # Если максимальное значение 'pos', возвращаем 1, иначе 0\n",
        "    return 1 if max_key == 'pos' else 0"
      ],
      "metadata": {
        "id": "wHT5OfyTLjr4"
      },
      "execution_count": null,
      "outputs": []
    },
    {
      "cell_type": "markdown",
      "source": [
        "### Шаг 4\n",
        "\n",
        "Примените к столбцам с исходными метками и метками NLTK методы для расчета метрик Precision, Recall, F-Score, чтобы оценить качество работы NLTK\n",
        "\n",
        "Используйте сниппеты кода:"
      ],
      "metadata": {
        "id": "ogYMhQtnLxH-"
      }
    },
    {
      "cell_type": "code",
      "source": [
        "from sklearn.metrics import precision_score, recall_score, f1_score\n",
        "\n",
        "# Расчет метрик оценки\n",
        "precision = precision_score(df['label'], df['predicted_label'])\n",
        "recall = recall_score(df['label'], df['predicted_label'])\n",
        "f1 = f1_score(df['label'], df['predicted_label'])"
      ],
      "metadata": {
        "id": "NhmqiuIUUkXX"
      },
      "execution_count": null,
      "outputs": []
    },
    {
      "cell_type": "markdown",
      "source": [
        "Визуализируйте результат с использованием матрицы ошибок\n",
        "\n",
        "Для визуализации используйте heatmap из библиотеки seaborn\n",
        "\n",
        "https://seaborn.pydata.org/generated/seaborn.heatmap.html"
      ],
      "metadata": {
        "id": "D1VMigHRemDt"
      }
    },
    {
      "cell_type": "code",
      "source": [
        "from sklearn.metrics import confusion_matrix\n",
        "\n",
        "# Расчет матрицы ошибок\n",
        "conf_matrix = confusion_matrix(df['label'], df['predicted_label'])"
      ],
      "metadata": {
        "id": "hbBpBd2Mesaj"
      },
      "execution_count": null,
      "outputs": []
    },
    {
      "cell_type": "markdown",
      "source": [
        "### Шаг 5\n",
        "\n",
        "Сравните результаты в двух столбцах: напишите функцию, которая проверяет равны или не равны значения в двух столбцах. Если они не равны, выведите на экран текст, который NLTK разметил неверно"
      ],
      "metadata": {
        "id": "WfGECqoTL6vo"
      }
    },
    {
      "cell_type": "code",
      "source": [],
      "metadata": {
        "id": "vRa6KNUJVlA_"
      },
      "execution_count": null,
      "outputs": []
    },
    {
      "cell_type": "markdown",
      "source": [
        "### Шаг 6\n",
        "\n",
        "Сформулируйте ответ на вопрос: что могло вызвать ошибки в работе модели? Возможными причинами могут быть омонимия, опечатки, ирония и сарказм в текстах\n",
        "\n",
        "- ваш ответ здесь"
      ],
      "metadata": {
        "id": "nhbiCdLRVmGa"
      }
    }
  ]
}